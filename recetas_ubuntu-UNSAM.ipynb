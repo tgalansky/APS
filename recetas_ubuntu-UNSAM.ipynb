{
 "cells": [
  {
   "cell_type": "markdown",
   "metadata": {},
   "source": [
    "<img src=\"./logo_UNSAM.jpg\" align=\"right\" width=\"150\" /> \n",
    "\n",
    "#### Análisis y Procesamiento de Señales\n",
    "\n",
    "#### Dr. Mariano Llamedo Soria\n"
   ]
  },
  {
   "cell_type": "markdown",
   "metadata": {},
   "source": [
    "# Receta de instalación de paquetes en Ubuntu 18.04\n",
    "\n",
    "**Gracias a Norberto Vicchi**\n",
    "\n",
    "- Instalar limpio Ubuntu 18.04\n",
    "\n",
    "- Actualización de repos\n",
    "* sudo apt-get update\n",
    "* sudo apt-get upgrade\n",
    "\n",
    "Si pide actualizar a 20.04, decirle que no. Pero si pide instalar actualizaciones en general, actualizar todo\n",
    "\n",
    "Python3, spyder y librerías\n",
    "* sudo apt install python3 python3-pip\n",
    "\n",
    "Primero correr esto para que el próximo comando no falle:\n",
    "* pip3 install --upgrade setuptools\n",
    "* pip3 install --upgrade pip\n",
    " Luego, sí, este comando:\n",
    "pip3 install --user scipy numpy spyder jupyter matplotlib\n",
    "\n",
    "Si no se hacen los upgrades, da error Command \"python setup.py egg_info\" failed with error code 1 in /tmp/pip-build-frgtysha/cryptography/\n",
    "\n",
    "Dió otro error no crítico, para corregirlo.\n",
    "pip3 install --user testresources\n",
    "pip3 install --user launchpadlib\n",
    "\n",
    "IMPORTANTE: Desloguearse y loguearse nuevamente para que el perfil tome los cambios\n",
    "Ya se puede correr spyder desde la terminal (la v5)\n",
    "\n",
    "- GIT:\n",
    "* sudo apt install git\n",
    "* git config --global user.name \"nombre de usuario\"\n",
    "* git config --global user.email \"email\"\n",
    "* ssh-keygen -t ed25519 -C \"your_email@example.com\"\n",
    "- Dejar ruta default\n",
    "- No es preciso passphrase (aunque deseable)\n",
    "* eval \"$(ssh-agent -s)\"\n",
    "* ssh-add ~/.ssh/id_ed25519\n",
    "* sudo apt-get install xclip\n",
    "* xclip -selection clipboard <\n",
    "Ir al perfil de github->settings->SSH&GPG keys->New SSH keys o Add SSH keys y pegar el contenido del archivo de la key creada (se puede ver con cat ~/.ssh/id_ed25519.pub . Click en Add SSH Key.\n",
    "* Mas info: \n",
    "\tSSH Config: https://docs.github.com/en/github/authenticating-to-github/connecting-to-github-with-ssh/generating-a-new-ssh-key-and-adding-it-to-the-ssh-agent\n",
    "\tAgregar key a Github: https://docs.github.com/en/github/authenticating-to-github/connecting-to-github-with-ssh/adding-a-new-ssh-key-to-your-github-account\n",
    "\n",
    "- Clonar repo\n",
    "* mkdir pds\n",
    "* cd pds\n",
    "* git clone https://github.com/marianux/pdstestbench.git\n",
    "\n"
   ]
  }
 ],
 "metadata": {
  "kernelspec": {
   "display_name": "Python 3 (ipykernel)",
   "language": "python",
   "name": "python3"
  },
  "language_info": {
   "codemirror_mode": {
    "name": "ipython",
    "version": 3
   },
   "file_extension": ".py",
   "mimetype": "text/x-python",
   "name": "python",
   "nbconvert_exporter": "python",
   "pygments_lexer": "ipython3",
   "version": "3.12.3"
  }
 },
 "nbformat": 4,
 "nbformat_minor": 4
}
