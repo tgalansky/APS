{
 "cells": [
  {
   "cell_type": "markdown",
   "metadata": {},
   "source": [
    "# Procesamiento Digital de Señales   <img src=\"./logo_UTN.svg\" align=\"right\" width=\"150\" /> \n",
    "\n",
    "#### Dr. Mariano Llamedo Soria\n"
   ]
  },
  {
   "cell_type": "markdown",
   "metadata": {},
   "source": [
    "Esta guia fue realizada por **Sergio Villegas** para las personas que tienen Windows."
   ]
  },
  {
   "cell_type": "markdown",
   "metadata": {},
   "source": [
    "### 1. Instalar Python y PIP\n",
    "\n",
    "**Descargar Python:**  \n",
    "Ve a la [página oficial de descargas de Python](https://www.python.org/downloads/) y descarga el instalador de Python para Windows.\n",
    "\n",
    "**Instalar Python:**\n",
    "1. Ejecuta el instalador de Python.\n",
    "2. Asegúrate de marcar la opción \"Add Python to PATH\" antes de hacer clic en \"Install Now\".\n",
    "3. Sigue las instrucciones del instalador para completar la instalación.\n",
    "\n",
    "### 2. Instalar los paquetes usando PIP\n",
    "\n",
    "**Abrir la terminal de comandos:**\n",
    "- Presiona `Win + R`, escribe `cmd` y presiona `Enter` para abrir la terminal de comandos.\n",
    "\n",
    "**Instalar los paquetes:**\n",
    "- Ejecuta el siguiente comando para instalar `scipy`, `numpy`, `spyder`, `jupyter` y `matplotlib`:\n",
    "\n",
    "```bash\n",
    "pip install scipy numpy spyder jupyter matplotlib\n",
    "\n",
    "\n"
   ]
  },
  {
   "cell_type": "markdown",
   "metadata": {},
   "source": [
    "### 3. Actualizar Spyder\n",
    "\n",
    "**Abrir la terminal de comandos `cmd`:**\n",
    "- Si no la tienes abierta, repite el paso 1 de la sección anterior.\n",
    "\n",
    "**Actualizar Spyder:**\n",
    "- Ejecuta el siguiente comando para actualizar `Spyder`:\n",
    "\n",
    "```bash\n",
    "pip install --upgrade spyder"
   ]
  },
  {
   "cell_type": "markdown",
   "metadata": {},
   "source": [
    "### 4. Instalar GIT\n",
    "\n",
    "**Descargar GIT:**\n",
    "- Ve a la [página oficial de descargas de GIT](https://git-scm.com/downloads) y descarga el instalador de GIT para Windows.\n",
    "\n",
    "**Instalar GIT:**\n",
    "1. Ejecuta el instalador de GIT.\n",
    "2. Sigue las instrucciones del instalador y selecciona las opciones predeterminadas a menos que tengas preferencias específicas."
   ]
  },
  {
   "cell_type": "markdown",
   "metadata": {},
   "source": [
    "### 5. Clonar los repositorios\n",
    "\n",
    "**Abrir la terminal de comandos de GIT:**\n",
    "- Presiona `Win + R`, escribe `cmd` y presiona `Enter` para abrir la terminal de comandos, o usa **Git Bash** que se instala con GIT.\n",
    "\n",
    "**Navegar a tu directorio de trabajo:**\n",
    "- Cambia el directorio actual a tu directorio de trabajo. Reemplaza `C:\\ruta\\a\\tu_directorio_de_trabajo` con la ruta real de tu directorio de trabajo:\n",
    "\n",
    "```bash\n",
    "cd C:\\ruta\\a\\tu_directorio_de_trabajo"
   ]
  },
  {
   "cell_type": "markdown",
   "metadata": {},
   "source": [
    "**Clonar el repositorio:** \n",
    "\n",
    "Ejecuta el siguiente comando para clonar el repositorio de la materia:\n",
    "\n",
    "\n",
    "```bash\n",
    "git clone https://github.com/marianux/pdstestbench.git"
   ]
  },
  {
   "cell_type": "markdown",
   "metadata": {},
   "source": [
    "### 6. Revisar y ejecutar los scripts en Spyder\n",
    "\n",
    "**Abrir Spyder:**\n",
    "- Presiona `Win + R`, escribe `spyder` y presiona `Enter`, o búscalo en el menú de inicio.\n",
    "\n",
    "**Configurar el directorio de trabajo:**\n",
    "- En Spyder, ve a **File > Open** y navega hasta `C:\\ruta\\a\\tu_directorio_de_trabajo\\pdstestbench`.\n",
    "- Selecciona el archivo `testbench0.py` y ábrelo.\n",
    "\n",
    "**Ejecutar los scripts:**\n",
    "- En la ventana del editor de Spyder, haz clic en el botón de **\"Run\"** (el ícono de play) para ejecutar `testbench0.py`.\n",
    "- Repite el proceso para `testbench1.py`."
   ]
  },
  {
   "cell_type": "code",
   "execution_count": null,
   "metadata": {},
   "outputs": [],
   "source": []
  }
 ],
 "metadata": {
  "kernelspec": {
   "display_name": "Python 3 (ipykernel)",
   "language": "python",
   "name": "python3"
  },
  "language_info": {
   "codemirror_mode": {
    "name": "ipython",
    "version": 3
   },
   "file_extension": ".py",
   "mimetype": "text/x-python",
   "name": "python",
   "nbconvert_exporter": "python",
   "pygments_lexer": "ipython3",
   "version": "3.12.3"
  }
 },
 "nbformat": 4,
 "nbformat_minor": 4
}
